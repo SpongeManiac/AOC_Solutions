{
 "cells": [
  {
   "cell_type": "markdown",
   "metadata": {},
   "source": [
    "\\--- Day 1: Historian Hysteria ---\n",
    "----------------------------------\n",
    "\n",
    "The _Chief Historian_ is always present for the big Christmas sleigh launch, but nobody has seen him in months! Last anyone heard, he was visiting locations that are historically significant to the North Pole; a group of Senior Historians has asked you to accompany them as they check the places they think he was most likely to visit.\n",
    "\n",
    "As each location is checked, they will mark it on their list with a _star_. They figure the Chief Historian _must_ be in one of the first fifty places they'll look, so in order to save Christmas, you need to help them get _fifty stars_ on their list before Santa takes off on December 25th.\n",
    "\n",
    "Collect stars by solving puzzles. Two puzzles will be made available on each day in the Advent calendar; the second puzzle is unlocked when you complete the first. Each puzzle grants _one star_. Good luck!\n",
    "\n",
    "You haven't even left yet and the group of Elvish Senior Historians has already hit a problem: their list of locations to check is currently _empty_. Eventually, someone decides that the best place to check first would be the Chief Historian's office.\n",
    "\n",
    "Upon pouring into the office, everyone confirms that the Chief Historian is indeed nowhere to be found. Instead, the Elves discover an assortment of notes and lists of historically significant locations! This seems to be the planning the Chief Historian was doing before he left. Perhaps these notes can be used to determine which locations to search?\n",
    "\n",
    "Throughout the Chief's office, the historically significant locations are listed not by name but by a unique number called the _location ID_. To make sure they don't miss anything, The Historians split into two groups, each searching the office and trying to create their own complete list of location IDs.\n",
    "\n",
    "There's just one problem: by holding the two lists up _side by side_ (your puzzle input), it quickly becomes clear that the lists aren't very similar. Maybe you can help The Historians reconcile their lists?\n",
    "\n",
    "For example:\n",
    "\n",
    "    3   4\n",
    "    4   3\n",
    "    2   5\n",
    "    1   3\n",
    "    3   9\n",
    "    3   3\n",
    "    \n",
    "\n",
    "Maybe the lists are only off by a small amount! To find out, pair up the numbers and measure how far apart they are. Pair up the _smallest number in the left list_ with the _smallest number in the right list_, then the _second-smallest left number_ with the _second-smallest right number_, and so on.\n",
    "\n",
    "Within each pair, figure out _how far apart_ the two numbers are; you'll need to _add up all of those distances_. For example, if you pair up a `3` from the left list with a `7` from the right list, the distance apart is `4`; if you pair up a `9` with a `3`, the distance apart is `6`.\n",
    "\n",
    "In the example list above, the pairs and distances would be as follows:\n",
    "\n",
    "*   The smallest number in the left list is `1`, and the smallest number in the right list is `3`. The distance between them is `_2_`.\n",
    "*   The second-smallest number in the left list is `2`, and the second-smallest number in the right list is another `3`. The distance between them is `_1_`.\n",
    "*   The third-smallest number in both lists is `3`, so the distance between them is `_0_`.\n",
    "*   The next numbers to pair up are `3` and `4`, a distance of `_1_`.\n",
    "*   The fifth-smallest numbers in each list are `3` and `5`, a distance of `_2_`.\n",
    "*   Finally, the largest number in the left list is `4`, while the largest number in the right list is `9`; these are a distance `_5_` apart.\n",
    "\n",
    "To find the _total distance_ between the left list and the right list, add up the distances between all of the pairs you found. In the example above, this is `2 + 1 + 0 + 1 + 2 + 5`, a total distance of `_11_`!\n",
    "\n",
    "Your actual left and right lists contain many location IDs. _What is the total distance between your lists?_"
   ]
  }
 ],
 "metadata": {
  "language_info": {
   "name": "python"
  }
 },
 "nbformat": 4,
 "nbformat_minor": 2
}
