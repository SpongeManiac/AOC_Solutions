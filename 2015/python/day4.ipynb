{
 "cells": [
  {
   "cell_type": "markdown",
   "metadata": {},
   "source": [
    "# Day 4: The Ideal Stocking Stuffer\n",
    "\n",
    "## Part 1\n",
    "\n",
    "Santa needs help mining some AdventCoins (very similar to bitcoins) to use as gifts for all the economically forward-thinking little girls and boys.\n",
    "\n",
    "To do this, he needs to find MD5 hashes which, in hexadecimal, start with at least five zeroes. The input to the MD5 hash is some secret key (your puzzle input, given below) followed by a number in decimal. To mine AdventCoins, you must find Santa the lowest positive number (no leading zeroes: 1, 2, 3, ...) that produces such a hash.\n",
    "\n",
    "For example:\n",
    "\n",
    "- If your secret key is abcdef, the answer is 609043, because the MD5 hash of abcdef609043 starts with five zeroes (000001dbbfa...), and it is the lowest such number to do so.\n",
    "- If your secret key is pqrstuv, the lowest number it combines with to make an MD5 hash starting with five zeroes is 1048970; that is, the MD5 hash of pqrstuv1048970 looks like 000006136ef....\n",
    "\n",
    "### Your puzzle input is `yzbqklnj`"
   ]
  },
  {
   "cell_type": "code",
   "execution_count": 6,
   "metadata": {},
   "outputs": [
    {
     "name": "stdout",
     "output_type": "stream",
     "text": [
      "Lowest number with 5 leading zeros: 282749\n",
      " With a result of: 000002c655df7738246e88f6c1c43eb7\n"
     ]
    }
   ],
   "source": [
    "from hashlib import md5\n",
    "\n",
    "input = 'yzbqklnj'\n",
    "counter = 1\n",
    "answer = ''\n",
    "while(len(answer) == 0):\n",
    "    result = str(md5(f'{input}{counter}'.encode('utf-8')).hexdigest())\n",
    "    if result[0:5] == '00000':\n",
    "        answer = result\n",
    "    else:\n",
    "        counter += 1\n",
    "print(f'Lowest number with 5 leading zeros: {counter}\\n With a result of: {answer}')"
   ]
  },
  {
   "cell_type": "markdown",
   "metadata": {},
   "source": [
    "## Part 2\n",
    "\n",
    "Now find one that starts with six zeroes."
   ]
  },
  {
   "cell_type": "code",
   "execution_count": 9,
   "metadata": {},
   "outputs": [
    {
     "name": "stdout",
     "output_type": "stream",
     "text": [
      "Lowest number with 6 leading zeros: 9962624\n",
      " With a result of: 0000004b347bf4b398b3f62ace7cd301\n"
     ]
    }
   ],
   "source": [
    "from hashlib import md5\n",
    "\n",
    "input = 'yzbqklnj'\n",
    "counter = 1\n",
    "answer = ''\n",
    "while(len(answer) == 0):\n",
    "    result = str(md5(f'{input}{counter}'.encode('utf-8')).hexdigest())\n",
    "    if result[0:6] == '000000':\n",
    "        answer = result\n",
    "    else:\n",
    "        counter += 1\n",
    "print(f'Lowest number with 6 leading zeros: {counter}\\nWith a result of: {answer}')"
   ]
  }
 ],
 "metadata": {
  "kernelspec": {
   "display_name": "Python 3",
   "language": "python",
   "name": "python3"
  },
  "language_info": {
   "codemirror_mode": {
    "name": "ipython",
    "version": 3
   },
   "file_extension": ".py",
   "mimetype": "text/x-python",
   "name": "python",
   "nbconvert_exporter": "python",
   "pygments_lexer": "ipython3",
   "version": "3.11.0"
  }
 },
 "nbformat": 4,
 "nbformat_minor": 2
}
