{
 "cells": [
  {
   "cell_type": "markdown",
   "metadata": {},
   "source": [
    "# Day 5: Doesn't He Have Intern-Elves For This?\n",
    "\n",
    "## Part 1\n",
    "\n",
    "Santa needs help figuring out which strings in his text file are naughty or nice.\n",
    "\n",
    "A nice string is one with all of the following properties:\n",
    "\n",
    "- It contains at least three vowels (aeiou only), like aei, xazegov, or aeiouaeiouaeiou.\n",
    "- It contains at least one letter that appears twice in a row, like xx, abcdde (dd), or aabbccdd (aa, bb, cc, or dd).\n",
    "- It does not contain the strings ab, cd, pq, or xy, even if they are part of one of the other requirements.\n",
    "\n",
    "For example:\n",
    "\n",
    "- `ugknbfddgicrmopn` is nice because it has at least three vowels (u...i...o...), a double letter (...dd...), and none of the disallowed substrings.\n",
    "- `aaa` is nice because it has at least three vowels and a double letter, even though the letters used by different rules overlap.\n",
    "- `jchzalrnumimnmhp` is naughty because it has no double letter.\n",
    "- `haegwjzuvuyypxyu` is naughty because it contains the string xy.\n",
    "- `dvszwmarrgswjxmb` is naughty because it contains only one vowel.\n",
    "\n",
    "How many strings are nice?\n"
   ]
  },
  {
   "cell_type": "code",
   "execution_count": 27,
   "metadata": {},
   "outputs": [
    {
     "name": "stdout",
     "output_type": "stream",
     "text": [
      "Total nice: 238\n"
     ]
    }
   ],
   "source": [
    "import re\n",
    "input_file = 'day5input.txt'\n",
    "\n",
    "naughty_pairs = [\n",
    "    'ab',\n",
    "    'cd',\n",
    "    'pq',\n",
    "    'xy'\n",
    "]\n",
    "\n",
    "total_nice = 0\n",
    "\n",
    "def has_naughty(input:str) -> bool:\n",
    "    return any(pair in input for pair in naughty_pairs)\n",
    "\n",
    "def is_nice(input:str) -> bool:\n",
    "    if has_naughty(input):\n",
    "        return False\n",
    "    double_expression = re.compile(r'(.)\\1{1,}')\n",
    "    double_char_result = double_expression.search(input)\n",
    "    triple_expression = re.compile(r'.*([aeiou]).*([aeiou]).*([aeiou]).*')\n",
    "    triple_vowel_result = triple_expression.search(input)\n",
    "    return not (double_char_result == None or triple_vowel_result == None)\n",
    "\n",
    "with open(input_file, 'r', ) as input:\n",
    "    for line in input.readlines():\n",
    "        nice = is_nice(line)\n",
    "        if nice:\n",
    "            total_nice += 1\n",
    "print(f'Total nice: {total_nice}')"
   ]
  },
  {
   "cell_type": "markdown",
   "metadata": {},
   "source": [
    "## Part 2\n",
    "\n",
    "Realizing the error of his ways, Santa has switched to a better model of determining whether a string is naughty or nice. None of the old rules apply, as they are all clearly ridiculous.\n",
    "\n",
    "Now, a nice string is one with all of the following properties:\n",
    "\n",
    "- It contains a pair of any two letters that appears at least twice in the string without overlapping, like `xyxy` (`xy`) or `aabcdefgaa` (`aa`), but not like `aaa` (`aa`, but it overlaps).\n",
    "- It contains at least one letter which repeats with exactly one letter between them, like `xyx`, abcdefeghi (`efe`), or even aaa.\n",
    "\n",
    "For example:\n",
    "\n",
    "- `qjhvhtzxzqqjkmpb` is nice because is has a pair that appears twice (`qj`) and a letter that repeats with exactly one letter between them (`zxz`).\n",
    "- `xxyxx` is nice because it has a pair that appears twice and a letter that repeats with one between, even though the letters used by each rule overlap.\n",
    "- `uurcxstgmygtbstg` is naughty because it has a pair (`tg`) but no repeat with a single letter between them.\n",
    "- `ieodomkazucvgmuy` is naughty because it has a repeating letter with one between (`odo`), but no pair that appears twice.\n",
    "\n",
    "How many strings are nice under these new rules?"
   ]
  },
  {
   "cell_type": "code",
   "execution_count": 18,
   "metadata": {},
   "outputs": [
    {
     "name": "stdout",
     "output_type": "stream",
     "text": [
      "Nice: 69\n",
      "Naughty: 931\n"
     ]
    }
   ],
   "source": [
    "# Satisfy two conditions\n",
    "input_file = 'day5input.txt'\n",
    "\n",
    "nice = []\n",
    "naughty = []\n",
    "\n",
    "with open(input_file, 'r') as input:\n",
    "    for line in input:\n",
    "        # Flags for each nice condition\n",
    "        double_pair = False\n",
    "        a_b_a = False\n",
    "        # Variables for keeping track of last match (prevent overlapping)\n",
    "        prev = (-1, '')\n",
    "        # Check if this line is naughty or nice\n",
    "        pairs = {}\n",
    "        # Loop through each char\n",
    "        for i in range(0, len(line)-2):\n",
    "            # If there is enough room to make a triplet, do so\n",
    "            if i < len(line)-3:\n",
    "                triplet = line[i:i+3]\n",
    "                if triplet[0] == triplet[2]:\n",
    "                    a_b_a = True\n",
    "            # If there is enough room to make a pair, do so\n",
    "            if i < len(line)-2:\n",
    "                pair = line[i:i+2]\n",
    "                # Ensure this pair does not overlap with previous pair if they are the same\n",
    "                if pair == prev[1]:\n",
    "                    if i == prev[0]+1:\n",
    "                        # Can't add pair, skip to next\n",
    "                        continue\n",
    "                # Add pair\n",
    "                pairs[pair] = pairs.get(pair, 0) + 1\n",
    "                # Update prev\n",
    "                prev = (i, pair)\n",
    "        # Check if any pairs appeared more than once\n",
    "        double_pair = max(list(pairs.values())) > 1\n",
    "        # If both conditions are met, the line is considered 'nice'\n",
    "        if a_b_a and double_pair:\n",
    "            nice.append(line)\n",
    "        # Otherwise, it is 'naughty'\n",
    "        else:\n",
    "            naughty.append(line)\n",
    "\n",
    "print(f'Nice: {len(nice)}')\n",
    "print(f'Naughty: {len(naughty)}')"
   ]
  }
 ],
 "metadata": {
  "kernelspec": {
   "display_name": "Python 3",
   "language": "python",
   "name": "python3"
  },
  "language_info": {
   "codemirror_mode": {
    "name": "ipython",
    "version": 3
   },
   "file_extension": ".py",
   "mimetype": "text/x-python",
   "name": "python",
   "nbconvert_exporter": "python",
   "pygments_lexer": "ipython3",
   "version": "3.11.0"
  }
 },
 "nbformat": 4,
 "nbformat_minor": 2
}
